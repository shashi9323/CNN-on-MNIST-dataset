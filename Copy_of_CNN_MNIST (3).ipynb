{
  "nbformat": 4,
  "nbformat_minor": 0,
  "metadata": {
    "colab": {
      "name": "Copy of CNN_MNIST.ipynb",
      "version": "0.3.2",
      "provenance": [],
      "collapsed_sections": []
    },
    "kernelspec": {
      "name": "python3",
      "display_name": "Python 3"
    },
    "accelerator": "GPU"
  },
  "cells": [
    {
      "cell_type": "code",
      "metadata": {
        "id": "G0dlUZPBP0wm",
        "colab_type": "code",
        "colab": {}
      },
      "source": [
        "%matplotlib inline"
      ],
      "execution_count": 0,
      "outputs": []
    },
    {
      "cell_type": "code",
      "metadata": {
        "id": "H9EU0e8yzFOm",
        "colab_type": "code",
        "outputId": "6af742f2-e1ca-4314-bd79-03aa5fa61027",
        "colab": {
          "base_uri": "https://localhost:8080/",
          "height": 119
        }
      },
      "source": [
        "# Credits: https://github.com/keras-team/keras/blob/master/examples/mnist_cnn.py\n",
        "\n",
        "\n",
        "from __future__ import print_function\n",
        "import keras\n",
        "from keras.datasets import mnist\n",
        "from keras.models import Sequential\n",
        "from keras.layers import Dense, Dropout, Flatten\n",
        "from keras.layers import Conv2D, MaxPooling2D\n",
        "from keras import backend as K\n",
        "K.set_image_dim_ordering('th')\n",
        "\n",
        "\n",
        "batch_size = 128\n",
        "num_classes = 10\n",
        "epochs = 12\n",
        "\n",
        "# input image dimensions\n",
        "img_rows, img_cols = 28, 28\n",
        "\n",
        "# the data, split between train and test sets\n",
        "(x_train, y_train), (x_test, y_test) = mnist.load_data()\n",
        "\n",
        "if K.image_data_format() == 'channels_first':\n",
        "    x_train = x_train.reshape(x_train.shape[0], 1, img_rows, img_cols)\n",
        "    x_test = x_test.reshape(x_test.shape[0], 1, img_rows, img_cols)\n",
        "    input_shape = (1, img_rows, img_cols)\n",
        "else:\n",
        "    x_train = x_train.reshape(x_train.shape[0], img_rows, img_cols, 1)\n",
        "    x_test = x_test.reshape(x_test.shape[0], img_rows, img_cols, 1)\n",
        "    input_shape = (img_rows, img_cols, 1)\n",
        "\n",
        "x_train = x_train.astype('float32')\n",
        "x_test = x_test.astype('float32')\n",
        "x_train /= 255\n",
        "x_test /= 255\n",
        "print('x_train shape:', x_train.shape)\n",
        "print(x_train.shape[0], 'train samples')\n",
        "print(x_test.shape[0], 'test samples')\n",
        "\n",
        "# convert class vectors to binary class matrices\n",
        "y_train = keras.utils.to_categorical(y_train, num_classes)\n",
        "y_test = keras.utils.to_categorical(y_test, num_classes)\n",
        "\n",
        "\n"
      ],
      "execution_count": 3,
      "outputs": [
        {
          "output_type": "stream",
          "text": [
            "Using TensorFlow backend.\n"
          ],
          "name": "stderr"
        },
        {
          "output_type": "stream",
          "text": [
            "Downloading data from https://s3.amazonaws.com/img-datasets/mnist.npz\n",
            "11493376/11490434 [==============================] - 1s 0us/step\n",
            "x_train shape: (60000, 1, 28, 28)\n",
            "60000 train samples\n",
            "10000 test samples\n"
          ],
          "name": "stdout"
        }
      ]
    },
    {
      "cell_type": "code",
      "metadata": {
        "id": "9_QksksnCMzj",
        "colab_type": "code",
        "outputId": "1f167a43-df80-482c-a959-33a08087b871",
        "colab": {
          "base_uri": "https://localhost:8080/",
          "height": 819
        }
      },
      "source": [
        "model = Sequential()\n",
        "model.add(Conv2D(32, kernel_size=(3, 3),\n",
        "                 activation='relu',\n",
        "                 input_shape=input_shape))\n",
        "model.add(Conv2D(64, (3, 3), activation='relu'))\n",
        "model.add(MaxPooling2D(pool_size=(2, 2)))\n",
        "model.add(Dropout(0.25))\n",
        "model.add(Flatten())\n",
        "model.add(Dense(128, activation='relu'))\n",
        "model.add(Dropout(0.5))\n",
        "model.add(Dense(num_classes, activation='softmax'))\n",
        "\n",
        "model.compile(loss=keras.losses.categorical_crossentropy,\n",
        "              optimizer=keras.optimizers.Adadelta(),\n",
        "              metrics=['accuracy'])\n",
        "\n",
        "history = model.fit(x_train, y_train,\n",
        "          batch_size=batch_size,\n",
        "          epochs=epochs,\n",
        "          verbose=1,\n",
        "          validation_data=(x_test, y_test))"
      ],
      "execution_count": 0,
      "outputs": [
        {
          "output_type": "stream",
          "text": [
            "WARNING: Logging before flag parsing goes to stderr.\n",
            "W0825 12:53:12.654603 139727748306816 deprecation_wrapper.py:119] From /usr/local/lib/python3.6/dist-packages/keras/backend/tensorflow_backend.py:74: The name tf.get_default_graph is deprecated. Please use tf.compat.v1.get_default_graph instead.\n",
            "\n",
            "W0825 12:53:12.692925 139727748306816 deprecation_wrapper.py:119] From /usr/local/lib/python3.6/dist-packages/keras/backend/tensorflow_backend.py:517: The name tf.placeholder is deprecated. Please use tf.compat.v1.placeholder instead.\n",
            "\n",
            "W0825 12:53:12.700205 139727748306816 deprecation_wrapper.py:119] From /usr/local/lib/python3.6/dist-packages/keras/backend/tensorflow_backend.py:4138: The name tf.random_uniform is deprecated. Please use tf.random.uniform instead.\n",
            "\n",
            "W0825 12:53:12.712319 139727748306816 deprecation_wrapper.py:119] From /usr/local/lib/python3.6/dist-packages/keras/backend/tensorflow_backend.py:174: The name tf.get_default_session is deprecated. Please use tf.compat.v1.get_default_session instead.\n",
            "\n",
            "W0825 12:53:12.713154 139727748306816 deprecation_wrapper.py:119] From /usr/local/lib/python3.6/dist-packages/keras/backend/tensorflow_backend.py:181: The name tf.ConfigProto is deprecated. Please use tf.compat.v1.ConfigProto instead.\n",
            "\n",
            "W0825 12:53:15.490153 139727748306816 deprecation_wrapper.py:119] From /usr/local/lib/python3.6/dist-packages/keras/backend/tensorflow_backend.py:3976: The name tf.nn.max_pool is deprecated. Please use tf.nn.max_pool2d instead.\n",
            "\n",
            "W0825 12:53:15.499730 139727748306816 deprecation.py:506] From /usr/local/lib/python3.6/dist-packages/keras/backend/tensorflow_backend.py:3445: calling dropout (from tensorflow.python.ops.nn_ops) with keep_prob is deprecated and will be removed in a future version.\n",
            "Instructions for updating:\n",
            "Please use `rate` instead of `keep_prob`. Rate should be set to `rate = 1 - keep_prob`.\n",
            "W0825 12:53:15.562196 139727748306816 deprecation_wrapper.py:119] From /usr/local/lib/python3.6/dist-packages/keras/optimizers.py:790: The name tf.train.Optimizer is deprecated. Please use tf.compat.v1.train.Optimizer instead.\n",
            "\n",
            "W0825 12:53:15.652031 139727748306816 deprecation.py:323] From /usr/local/lib/python3.6/dist-packages/tensorflow/python/ops/math_grad.py:1250: add_dispatch_support.<locals>.wrapper (from tensorflow.python.ops.array_ops) is deprecated and will be removed in a future version.\n",
            "Instructions for updating:\n",
            "Use tf.where in 2.0, which has the same broadcast rule as np.where\n"
          ],
          "name": "stderr"
        },
        {
          "output_type": "stream",
          "text": [
            "Train on 60000 samples, validate on 10000 samples\n",
            "Epoch 1/12\n",
            "60000/60000 [==============================] - 9s 144us/step - loss: 0.2542 - acc: 0.9219 - val_loss: 0.0672 - val_acc: 0.9800\n",
            "Epoch 2/12\n",
            "60000/60000 [==============================] - 4s 75us/step - loss: 0.0883 - acc: 0.9743 - val_loss: 0.0445 - val_acc: 0.9855\n",
            "Epoch 3/12\n",
            "60000/60000 [==============================] - 5s 75us/step - loss: 0.0650 - acc: 0.9810 - val_loss: 0.0356 - val_acc: 0.9873\n",
            "Epoch 4/12\n",
            "60000/60000 [==============================] - 5s 76us/step - loss: 0.0541 - acc: 0.9832 - val_loss: 0.0305 - val_acc: 0.9896\n",
            "Epoch 5/12\n",
            "60000/60000 [==============================] - 5s 75us/step - loss: 0.0471 - acc: 0.9859 - val_loss: 0.0300 - val_acc: 0.9904\n",
            "Epoch 6/12\n",
            "60000/60000 [==============================] - 5s 76us/step - loss: 0.0405 - acc: 0.9880 - val_loss: 0.0303 - val_acc: 0.9905\n",
            "Epoch 7/12\n",
            "60000/60000 [==============================] - 5s 76us/step - loss: 0.0372 - acc: 0.9885 - val_loss: 0.0322 - val_acc: 0.9896\n",
            "Epoch 8/12\n",
            "60000/60000 [==============================] - 5s 76us/step - loss: 0.0315 - acc: 0.9903 - val_loss: 0.0315 - val_acc: 0.9891\n",
            "Epoch 9/12\n",
            "60000/60000 [==============================] - 5s 77us/step - loss: 0.0313 - acc: 0.9904 - val_loss: 0.0294 - val_acc: 0.9907\n",
            "Epoch 10/12\n",
            "60000/60000 [==============================] - 5s 77us/step - loss: 0.0287 - acc: 0.9911 - val_loss: 0.0286 - val_acc: 0.9909\n",
            "Epoch 11/12\n",
            "60000/60000 [==============================] - 5s 76us/step - loss: 0.0271 - acc: 0.9916 - val_loss: 0.0261 - val_acc: 0.9919\n",
            "Epoch 12/12\n",
            "60000/60000 [==============================] - 5s 76us/step - loss: 0.0242 - acc: 0.9923 - val_loss: 0.0277 - val_acc: 0.9911\n"
          ],
          "name": "stdout"
        }
      ]
    },
    {
      "cell_type": "code",
      "metadata": {
        "id": "HqC5hMHMCO2y",
        "colab_type": "code",
        "colab": {}
      },
      "source": [
        "import matplotlib.pyplot as plt\n",
        "import numpy as np\n",
        "import time\n",
        "# https://gist.github.com/greydanus/f6eee59eaf1d90fcb3b534a25362cea4\n",
        "# https://stackoverflow.com/a/14434334\n",
        "# this function is used to update the plots for each epoch and error\n",
        "def plt_dynamic(x, vy, ty, ax, colors=['b']):\n",
        "    ax.plot(x, vy, 'b', label=\"Validation Loss\")\n",
        "    ax.plot(x, ty, 'r', label=\"Train Loss\")\n",
        "    plt.legend()\n",
        "    plt.grid()\n",
        "    fig.canvas.draw()\n",
        "    \n",
        "    "
      ],
      "execution_count": 0,
      "outputs": []
    },
    {
      "cell_type": "code",
      "metadata": {
        "id": "5t9g3bwW3rBP",
        "colab_type": "code",
        "outputId": "648b6859-801d-45ac-bfce-4ae62449353c",
        "colab": {
          "base_uri": "https://localhost:8080/",
          "height": 317
        }
      },
      "source": [
        "score = model.evaluate(x_test, y_test, verbose=0) \n",
        "\n",
        "print('Test score:', score[0]) \n",
        "print('Test accuracy:', score[1])\n",
        "\n",
        "fig,ax = plt.subplots(1,1)\n",
        "ax.set_xlabel('epoch') ; ax.set_ylabel('Categorical Crossentropy Loss')\n",
        "\n",
        "# list of epoch numbers\n",
        "x = list(range(1,epochs+1))\n",
        "\n",
        "vy = history.history['val_loss']\n",
        "ty = history.history['loss']\n",
        "plt_dynamic(x, vy, ty, ax, colors=['b'])"
      ],
      "execution_count": 0,
      "outputs": [
        {
          "output_type": "stream",
          "text": [
            "Test score: 0.027698707123306805\n",
            "Test accuracy: 0.9911\n"
          ],
          "name": "stdout"
        },
        {
          "output_type": "display_data",
          "data": {
            "image/png": "[encoded data removed]",
            "text/plain": [
              "<Figure size 432x288 with 1 Axes>"
            ]
          },
          "metadata": {
            "tags": []
          }
        }
      ]
    },
    {
      "cell_type": "code",
      "metadata": {
        "id": "HE0Nb4mtClVS",
        "colab_type": "code",
        "outputId": "da4c3597-fc84-4593-e37b-04ed01029622",
        "colab": {
          "base_uri": "https://localhost:8080/",
          "height": 442
        }
      },
      "source": [
        "model1 = Sequential()\n",
        "model1.add(Conv2D(32, kernel_size=(3, 3),\n",
        "                 activation='relu',\n",
        "                 input_shape=input_shape))\n",
        "model1.add(Conv2D(64, (3, 3), activation='relu'))\n",
        "model1.add(MaxPooling2D(pool_size=(2, 2)))\n",
        "model1.add(Conv2D(128, (3, 3), activation='relu'))\n",
        "model1.add(Conv2D(128, (3, 3), activation='relu'))\n",
        "model1.add(MaxPooling2D(pool_size=(2, 2)))\n",
        "model1.add(Dropout(0.5))\n",
        "model1.add(Flatten())\n",
        "model1.add(Dense(128, activation='relu'))\n",
        "model1.add(Dropout(0.5))\n",
        "model1.add(Dense(num_classes, activation='softmax'))\n",
        "\n",
        "model1.compile(loss=keras.losses.categorical_crossentropy,\n",
        "              optimizer=keras.optimizers.Adadelta(),\n",
        "              metrics=['accuracy'])\n",
        "\n",
        "history = model1.fit(x_train, y_train,\n",
        "          batch_size=batch_size,\n",
        "          epochs=epochs,\n",
        "          verbose=1,\n",
        "          validation_data=(x_test, y_test))"
      ],
      "execution_count": 0,
      "outputs": [
        {
          "output_type": "stream",
          "text": [
            "Train on 60000 samples, validate on 10000 samples\n",
            "Epoch 1/12\n",
            "60000/60000 [==============================] - 6s 101us/step - loss: 0.3048 - acc: 0.9031 - val_loss: 0.0524 - val_acc: 0.9840\n",
            "Epoch 2/12\n",
            "60000/60000 [==============================] - 5s 91us/step - loss: 0.0883 - acc: 0.9732 - val_loss: 0.0275 - val_acc: 0.9898\n",
            "Epoch 3/12\n",
            "60000/60000 [==============================] - 5s 91us/step - loss: 0.0634 - acc: 0.9812 - val_loss: 0.0250 - val_acc: 0.9921\n",
            "Epoch 4/12\n",
            "60000/60000 [==============================] - 6s 92us/step - loss: 0.0520 - acc: 0.9846 - val_loss: 0.0246 - val_acc: 0.9919\n",
            "Epoch 5/12\n",
            "60000/60000 [==============================] - 5s 91us/step - loss: 0.0427 - acc: 0.9882 - val_loss: 0.0181 - val_acc: 0.9948\n",
            "Epoch 6/12\n",
            "60000/60000 [==============================] - 5s 91us/step - loss: 0.0389 - acc: 0.9885 - val_loss: 0.0176 - val_acc: 0.9944\n",
            "Epoch 7/12\n",
            "60000/60000 [==============================] - 5s 90us/step - loss: 0.0331 - acc: 0.9902 - val_loss: 0.0167 - val_acc: 0.9948\n",
            "Epoch 8/12\n",
            "60000/60000 [==============================] - 5s 90us/step - loss: 0.0297 - acc: 0.9909 - val_loss: 0.0171 - val_acc: 0.9948\n",
            "Epoch 9/12\n",
            "60000/60000 [==============================] - 5s 91us/step - loss: 0.0277 - acc: 0.9917 - val_loss: 0.0158 - val_acc: 0.9948\n",
            "Epoch 10/12\n",
            "60000/60000 [==============================] - 5s 91us/step - loss: 0.0269 - acc: 0.9923 - val_loss: 0.0167 - val_acc: 0.9945\n",
            "Epoch 11/12\n",
            "60000/60000 [==============================] - 5s 90us/step - loss: 0.0235 - acc: 0.9924 - val_loss: 0.0172 - val_acc: 0.9947\n",
            "Epoch 12/12\n",
            "60000/60000 [==============================] - 5s 91us/step - loss: 0.0217 - acc: 0.9932 - val_loss: 0.0173 - val_acc: 0.9950\n"
          ],
          "name": "stdout"
        }
      ]
    },
    {
      "cell_type": "code",
      "metadata": {
        "id": "KCGmOwtPC4Dh",
        "colab_type": "code",
        "outputId": "1f971e77-b91d-466c-c469-1ee84be54712",
        "colab": {
          "base_uri": "https://localhost:8080/",
          "height": 317
        }
      },
      "source": [
        "score = model1.evaluate(x_test, y_test, verbose=0) \n",
        "print('Test score:', score[0]) \n",
        "print('Test accuracy:', score[1])\n",
        "\n",
        "fig,ax = plt.subplots(1,1)\n",
        "ax.set_xlabel('epoch') ; ax.set_ylabel('Categorical Crossentropy Loss')\n",
        "\n",
        "# list of epoch numbers\n",
        "x = list(range(1,epochs+1))\n",
        "\n",
        "vy = history.history['val_loss']\n",
        "ty = history.history['loss']\n",
        "plt_dynamic(x, vy, ty, ax, colors=['b'])"
      ],
      "execution_count": 0,
      "outputs": [
        {
          "output_type": "stream",
          "text": [
            "Test score: 0.01734484681326394\n",
            "Test accuracy: 0.995\n"
          ],
          "name": "stdout"
        },
        {
          "output_type": "display_data",
          "data": {
            "image/png": "[encoded data removed]",
            "text/plain": [
              "<Figure size 432x288 with 1 Axes>"
            ]
          },
          "metadata": {
            "tags": []
          }
        }
      ]
    },
    {
      "cell_type": "code",
      "metadata": {
        "id": "CwmtORlOPaBD",
        "colab_type": "code",
        "outputId": "4b79d5e4-1847-47f0-ba63-00f7cae0db56",
        "colab": {
          "base_uri": "https://localhost:8080/",
          "height": 442
        }
      },
      "source": [
        "model2 = Sequential()\n",
        "model2.add(Conv2D(32, kernel_size=(4, 4),\n",
        "                 activation='relu',\n",
        "                 input_shape=input_shape))\n",
        "model2.add(Conv2D(64, (3, 3), activation='relu'))\n",
        "model2.add(MaxPooling2D(pool_size=(2, 2)))\n",
        "           \n",
        "model2.add(Conv2D(128, (2, 2), activation='relu'))\n",
        "model2.add(Conv2D(128, (3, 3), activation='relu'))\n",
        "model2.add(MaxPooling2D(pool_size=(2, 2)))\n",
        "           \n",
        "model2.add(Conv2D(256, (1, 1), activation='relu'))\n",
        "model2.add(Conv2D(256, (3, 3), activation='relu'))\n",
        "model2.add(MaxPooling2D(pool_size=(2, 2)))\n",
        "           \n",
        "model2.add(Conv2D(512, (1, 1), activation='relu'))\n",
        "model2.add(Conv2D(512, (1, 1), activation='relu'))\n",
        "model2.add(Dropout(0.5))\n",
        "           \n",
        "model2.add(Flatten())\n",
        "model2.add(Dense(128, activation='relu'))\n",
        "model2.add(Dropout(0.5))\n",
        "model2.add(Dense(num_classes, activation='softmax'))\n",
        "\n",
        "model2.compile(loss=keras.losses.categorical_crossentropy,\n",
        "              optimizer=keras.optimizers.Adadelta(),\n",
        "              metrics=['accuracy'])\n",
        "\n",
        "history = model2.fit(x_train, y_train,\n",
        "          batch_size=batch_size,\n",
        "          epochs=epochs,\n",
        "          verbose=1,\n",
        "          validation_data=(x_test, y_test))"
      ],
      "execution_count": 0,
      "outputs": [
        {
          "output_type": "stream",
          "text": [
            "Train on 60000 samples, validate on 10000 samples\n",
            "Epoch 1/12\n",
            "60000/60000 [==============================] - 8s 134us/step - loss: 0.5535 - acc: 0.8159 - val_loss: 0.0579 - val_acc: 0.9825\n",
            "Epoch 2/12\n",
            "60000/60000 [==============================] - 7s 111us/step - loss: 0.0698 - acc: 0.9815 - val_loss: 0.0423 - val_acc: 0.9875\n",
            "Epoch 3/12\n",
            "60000/60000 [==============================] - 7s 111us/step - loss: 0.0454 - acc: 0.9884 - val_loss: 0.0332 - val_acc: 0.9908\n",
            "Epoch 4/12\n",
            "60000/60000 [==============================] - 7s 111us/step - loss: 0.0352 - acc: 0.9911 - val_loss: 0.0494 - val_acc: 0.9863\n",
            "Epoch 5/12\n",
            "60000/60000 [==============================] - 7s 111us/step - loss: 0.0274 - acc: 0.9928 - val_loss: 0.0280 - val_acc: 0.9933\n",
            "Epoch 6/12\n",
            "60000/60000 [==============================] - 7s 111us/step - loss: 0.0195 - acc: 0.9953 - val_loss: 0.0334 - val_acc: 0.9920\n",
            "Epoch 7/12\n",
            "60000/60000 [==============================] - 7s 111us/step - loss: 0.0162 - acc: 0.9955 - val_loss: 0.0371 - val_acc: 0.9914\n",
            "Epoch 8/12\n",
            "60000/60000 [==============================] - 7s 110us/step - loss: 0.0134 - acc: 0.9966 - val_loss: 0.0314 - val_acc: 0.9930\n",
            "Epoch 9/12\n",
            "60000/60000 [==============================] - 7s 110us/step - loss: 0.0112 - acc: 0.9970 - val_loss: 0.0389 - val_acc: 0.9924\n",
            "Epoch 10/12\n",
            "60000/60000 [==============================] - 7s 110us/step - loss: 0.0086 - acc: 0.9979 - val_loss: 0.0675 - val_acc: 0.9890\n",
            "Epoch 11/12\n",
            "60000/60000 [==============================] - 7s 110us/step - loss: 0.0077 - acc: 0.9980 - val_loss: 0.0342 - val_acc: 0.9940\n",
            "Epoch 12/12\n",
            "60000/60000 [==============================] - 7s 110us/step - loss: 0.0069 - acc: 0.9986 - val_loss: 0.0363 - val_acc: 0.9938\n"
          ],
          "name": "stdout"
        }
      ]
    },
    {
      "cell_type": "code",
      "metadata": {
        "id": "uKlX2ncXQN_M",
        "colab_type": "code",
        "outputId": "75593027-6a68-4238-c164-521c626d0c88",
        "colab": {
          "base_uri": "https://localhost:8080/",
          "height": 317
        }
      },
      "source": [
        "score = model2.evaluate(x_test, y_test, verbose=0) \n",
        "print('Test score:', score[0]) \n",
        "print('Test accuracy:', score[1])\n",
        "\n",
        "fig,ax = plt.subplots(1,1)\n",
        "ax.set_xlabel('epoch') ; ax.set_ylabel('Categorical Crossentropy Loss')\n",
        "\n",
        "# list of epoch numbers\n",
        "x = list(range(1,epochs+1))\n",
        "\n",
        "vy = history.history['val_loss']\n",
        "ty = history.history['loss']\n",
        "plt_dynamic(x, vy, ty, ax, colors=['b'])"
      ],
      "execution_count": 0,
      "outputs": [
        {
          "output_type": "stream",
          "text": [
            "Test score: 0.036298991786985424\n",
            "Test accuracy: 0.9938\n"
          ],
          "name": "stdout"
        },
        {
          "output_type": "display_data",
          "data": {
            "image/png": "[encoded data removed]",
            "text/plain": [
              "<Figure size 432x288 with 1 Axes>"
            ]
          },
          "metadata": {
            "tags": []
          }
        }
      ]
    },
    {
      "cell_type": "code",
      "metadata": {
        "id": "eqkdxAPrN5j0",
        "colab_type": "code",
        "outputId": "66c40be4-7941-49f1-c725-ba32e4c541da",
        "colab": {
          "base_uri": "https://localhost:8080/",
          "height": 442
        }
      },
      "source": [
        "model3 = Sequential()\n",
        "model3.add(Conv2D(32, kernel_size=(2, 2), activation='relu', input_shape=input_shape))\n",
        "model3.add(Conv2D(64, (2, 2), activation='relu'))\n",
        "model3.add(MaxPooling2D(pool_size=(2, 2), strides=2))\n",
        "           \n",
        "model3.add(Conv2D(128, (3, 3), activation='relu', padding='same'))\n",
        "model3.add(Conv2D(128, (3, 3), activation='relu', padding='same'))\n",
        "model3.add(MaxPooling2D(pool_size=(2, 2), strides=2))\n",
        "           \n",
        "           \n",
        "model3.add(Conv2D(256, (4, 4), activation='relu', padding='same'))\n",
        "model3.add(Conv2D(256, (4, 4), activation='relu', padding='same'))\n",
        "model3.add(MaxPooling2D(pool_size=(2, 2), strides=2))\n",
        "           \n",
        "           \n",
        "model3.add(Conv2D(512, (5, 5), activation='relu', padding='same'))\n",
        "model3.add(Conv2D(512, (5, 5), activation='relu', padding='same'))\n",
        "model3.add(MaxPooling2D(pool_size=(2, 2), strides=2))\n",
        "           \n",
        "\n",
        "model3.add(Conv2D(756, (6, 6), activation='relu', padding='same'))\n",
        "model3.add(Conv2D(756, (6, 6), activation='relu', padding='same'))\n",
        "model3.add(Dropout(0.5))\n",
        "           \n",
        "model3.add(Flatten())\n",
        "model3.add(Dense(128, activation='relu'))\n",
        "model3.add(Dropout(0.5))\n",
        "model3.add(Dense(num_classes, activation='softmax'))\n",
        "\n",
        "model3.compile(loss=keras.losses.categorical_crossentropy,\n",
        "              optimizer=keras.optimizers.Adadelta(),\n",
        "              metrics=['accuracy'])\n",
        "\n",
        "history = model3.fit(x_train, y_train,\n",
        "          batch_size=batch_size,\n",
        "          epochs=epochs,\n",
        "          verbose=1,\n",
        "          validation_data=(x_test, y_test))"
      ],
      "execution_count": 0,
      "outputs": [
        {
          "output_type": "stream",
          "text": [
            "Train on 60000 samples, validate on 10000 samples\n",
            "Epoch 1/12\n",
            "60000/60000 [==============================] - 82s 1ms/step - loss: 2.3017 - acc: 0.1099 - val_loss: 2.3011 - val_acc: 0.1135\n",
            "Epoch 2/12\n",
            "60000/60000 [==============================] - 74s 1ms/step - loss: 2.3016 - acc: 0.1122 - val_loss: 2.3012 - val_acc: 0.1135\n",
            "Epoch 3/12\n",
            "60000/60000 [==============================] - 74s 1ms/step - loss: 2.3014 - acc: 0.1124 - val_loss: 2.3010 - val_acc: 0.1135\n",
            "Epoch 4/12\n",
            "60000/60000 [==============================] - 73s 1ms/step - loss: 2.3014 - acc: 0.1124 - val_loss: 2.3011 - val_acc: 0.1135\n",
            "Epoch 5/12\n",
            "60000/60000 [==============================] - 73s 1ms/step - loss: 2.3013 - acc: 0.1124 - val_loss: 2.3011 - val_acc: 0.1135\n",
            "Epoch 6/12\n",
            "60000/60000 [==============================] - 73s 1ms/step - loss: 2.3013 - acc: 0.1124 - val_loss: 2.3011 - val_acc: 0.1135\n",
            "Epoch 7/12\n",
            "60000/60000 [==============================] - 74s 1ms/step - loss: 2.3013 - acc: 0.1124 - val_loss: 2.3010 - val_acc: 0.1135\n",
            "Epoch 8/12\n",
            "60000/60000 [==============================] - 73s 1ms/step - loss: 2.3012 - acc: 0.1124 - val_loss: 2.3008 - val_acc: 0.1135\n",
            "Epoch 9/12\n",
            "60000/60000 [==============================] - 73s 1ms/step - loss: 1.7503 - acc: 0.3225 - val_loss: 0.3164 - val_acc: 0.8636\n",
            "Epoch 10/12\n",
            "60000/60000 [==============================] - 74s 1ms/step - loss: 0.1699 - acc: 0.9554 - val_loss: 0.0557 - val_acc: 0.9872\n",
            "Epoch 11/12\n",
            "60000/60000 [==============================] - 73s 1ms/step - loss: 0.0680 - acc: 0.9851 - val_loss: 0.0435 - val_acc: 0.9901\n",
            "Epoch 12/12\n",
            "60000/60000 [==============================] - 73s 1ms/step - loss: 0.0439 - acc: 0.9908 - val_loss: 0.0433 - val_acc: 0.9911\n"
          ],
          "name": "stdout"
        }
      ]
    },
    {
      "cell_type": "code",
      "metadata": {
        "id": "eKknDBBbOM_a",
        "colab_type": "code",
        "outputId": "0e8584ee-7289-4bdd-f3ae-84c16dd497ef",
        "colab": {
          "base_uri": "https://localhost:8080/",
          "height": 317
        }
      },
      "source": [
        "score = model3.evaluate(x_test, y_test, verbose=0) \n",
        "print('Test score:', score[0]) \n",
        "print('Test accuracy:', score[1])\n",
        "\n",
        "fig,ax = plt.subplots(1,1)\n",
        "ax.set_xlabel('epoch') ; ax.set_ylabel('Categorical Crossentropy Loss')\n",
        "\n",
        "# list of epoch numbers\n",
        "x = list(range(1,epochs+1))\n",
        "\n",
        "vy = history.history['val_loss']\n",
        "ty = history.history['loss']\n",
        "plt_dynamic(x, vy, ty, ax, colors=['b'])"
      ],
      "execution_count": 0,
      "outputs": [
        {
          "output_type": "stream",
          "text": [
            "Test score: 0.04327150229863473\n",
            "Test accuracy: 0.9911\n"
          ],
          "name": "stdout"
        },
        {
          "output_type": "display_data",
          "data": {
            "image/png": "[encoded data removed]",
            "text/plain": [
              "<Figure size 432x288 with 1 Axes>"
            ]
          },
          "metadata": {
            "tags": []
          }
        }
      ]
    },
    {
      "cell_type": "code",
      "metadata": {
        "id": "4KaGST0_mJZ5",
        "colab_type": "code",
        "colab": {}
      },
      "source": [
        "from keras.layers.normalization import BatchNormalization\n"
      ],
      "execution_count": 0,
      "outputs": []
    },
    {
      "cell_type": "code",
      "metadata": {
        "colab_type": "code",
        "outputId": "611bc0ec-ad7f-4d01-e7a7-c03a16b539ec",
        "id": "fCoQH99LAHUk",
        "colab": {
          "base_uri": "https://localhost:8080/",
          "height": 442
        }
      },
      "source": [
        "model4 = Sequential()\n",
        "model4.add(Conv2D(32, kernel_size=(3, 3),\n",
        "                 activation='relu',\n",
        "                 input_shape=input_shape))\n",
        "model4.add(Conv2D(64, (3, 3), activation='relu'))\n",
        "model4.add(MaxPooling2D(pool_size=(2, 2)))\n",
        "model4.add(Dropout(0.25))\n",
        "model4.add(Flatten())\n",
        "model4.add(BatchNormalization())\n",
        "\n",
        "model4.add(Dense(128, activation='relu'))\n",
        "model4.add(Dropout(0.5))\n",
        "model4.add(Dense(num_classes, activation='softmax'))\n",
        "\n",
        "model4.compile(loss=keras.losses.categorical_crossentropy,\n",
        "              optimizer=keras.optimizers.Adadelta(),\n",
        "              metrics=['accuracy'])\n",
        "\n",
        "history = model4.fit(x_train, y_train,\n",
        "          batch_size=batch_size,\n",
        "          epochs=epochs,\n",
        "          verbose=1,\n",
        "          validation_data=(x_test, y_test))"
      ],
      "execution_count": 0,
      "outputs": [
        {
          "output_type": "stream",
          "text": [
            "Train on 60000 samples, validate on 10000 samples\n",
            "Epoch 1/12\n",
            "60000/60000 [==============================] - 7s 109us/step - loss: 0.1664 - acc: 0.9500 - val_loss: 0.0469 - val_acc: 0.9854\n",
            "Epoch 2/12\n",
            "60000/60000 [==============================] - 5s 90us/step - loss: 0.0740 - acc: 0.9779 - val_loss: 0.0394 - val_acc: 0.9881\n",
            "Epoch 3/12\n",
            "60000/60000 [==============================] - 5s 90us/step - loss: 0.0550 - acc: 0.9844 - val_loss: 0.0375 - val_acc: 0.9887\n",
            "Epoch 4/12\n",
            "60000/60000 [==============================] - 5s 91us/step - loss: 0.0473 - acc: 0.9866 - val_loss: 0.0371 - val_acc: 0.9894\n",
            "Epoch 5/12\n",
            "60000/60000 [==============================] - 6s 93us/step - loss: 0.0403 - acc: 0.9886 - val_loss: 0.0420 - val_acc: 0.9879\n",
            "Epoch 6/12\n",
            "60000/60000 [==============================] - 5s 91us/step - loss: 0.0344 - acc: 0.9899 - val_loss: 0.0431 - val_acc: 0.9889\n",
            "Epoch 7/12\n",
            "60000/60000 [==============================] - 5s 91us/step - loss: 0.0337 - acc: 0.9902 - val_loss: 0.0514 - val_acc: 0.9894\n",
            "Epoch 8/12\n",
            "60000/60000 [==============================] - 5s 91us/step - loss: 0.0314 - acc: 0.9907 - val_loss: 0.0389 - val_acc: 0.9912\n",
            "Epoch 9/12\n",
            "60000/60000 [==============================] - 5s 91us/step - loss: 0.0302 - acc: 0.9918 - val_loss: 0.0483 - val_acc: 0.9893\n",
            "Epoch 10/12\n",
            "60000/60000 [==============================] - 5s 90us/step - loss: 0.0265 - acc: 0.9919 - val_loss: 0.0418 - val_acc: 0.9909\n",
            "Epoch 11/12\n",
            "60000/60000 [==============================] - 5s 90us/step - loss: 0.0261 - acc: 0.9925 - val_loss: 0.0413 - val_acc: 0.9914\n",
            "Epoch 12/12\n",
            "60000/60000 [==============================] - 5s 90us/step - loss: 0.0228 - acc: 0.9937 - val_loss: 0.0402 - val_acc: 0.9919\n"
          ],
          "name": "stdout"
        }
      ]
    },
    {
      "cell_type": "code",
      "metadata": {
        "colab_type": "code",
        "outputId": "dfb018a5-fbb8-4d5d-ea0c-0c3fce7a4fe7",
        "id": "KmRULm_gAHUv",
        "colab": {
          "base_uri": "https://localhost:8080/",
          "height": 317
        }
      },
      "source": [
        "score = model4.evaluate(x_test, y_test, verbose=0) \n",
        "\n",
        "print('Test score:', score[0]) \n",
        "print('Test accuracy:', score[1])\n",
        "\n",
        "fig,ax = plt.subplots(1,1)\n",
        "ax.set_xlabel('epoch') ; ax.set_ylabel('Categorical Crossentropy Loss')\n",
        "\n",
        "# list of epoch numbers\n",
        "x = list(range(1,epochs+1))\n",
        "\n",
        "vy = history.history['val_loss']\n",
        "ty = history.history['loss']\n",
        "plt_dynamic(x, vy, ty, ax, colors=['b'])"
      ],
      "execution_count": 0,
      "outputs": [
        {
          "output_type": "stream",
          "text": [
            "Test score: 0.040212269348834435\n",
            "Test accuracy: 0.9919\n"
          ],
          "name": "stdout"
        },
        {
          "output_type": "display_data",
          "data": {
            "image/png": "[encoded data removed]",
            "text/plain": [
              "<Figure size 432x288 with 1 Axes>"
            ]
          },
          "metadata": {
            "tags": []
          }
        }
      ]
    },
    {
      "cell_type": "code",
      "metadata": {
        "colab_type": "code",
        "outputId": "e6d4d36c-c05d-4437-d294-5b33820fbdf4",
        "id": "TkLdPPjXAHUz",
        "colab": {
          "base_uri": "https://localhost:8080/",
          "height": 442
        }
      },
      "source": [
        "model5 = Sequential()\n",
        "model5.add(Conv2D(32, kernel_size=(3, 3),\n",
        "                 activation='relu',\n",
        "                 input_shape=input_shape))\n",
        "model5.add(Conv2D(64, (3, 3), activation='relu'))\n",
        "model5.add(MaxPooling2D(pool_size=(2, 2)))\n",
        "model5.add(Conv2D(128, (3, 3), activation='relu'))\n",
        "model5.add(Conv2D(128, (3, 3), activation='relu'))\n",
        "model5.add(MaxPooling2D(pool_size=(2, 2)))\n",
        "model5.add(Dropout(0.5))\n",
        "model5.add(Flatten())\n",
        "model5.add(BatchNormalization())\n",
        "model5.add(Dense(128, activation='relu'))\n",
        "model5.add(Dropout(0.25))\n",
        "model5.add(Dense(num_classes, activation='softmax'))\n",
        "\n",
        "model5.compile(loss=keras.losses.categorical_crossentropy,\n",
        "              optimizer=keras.optimizers.Adadelta(),\n",
        "              metrics=['accuracy'])\n",
        "\n",
        "history = model5.fit(x_train, y_train,\n",
        "          batch_size=batch_size,\n",
        "          epochs=epochs,\n",
        "          verbose=1,\n",
        "          validation_data=(x_test, y_test))"
      ],
      "execution_count": 0,
      "outputs": [
        {
          "output_type": "stream",
          "text": [
            "Train on 60000 samples, validate on 10000 samples\n",
            "Epoch 1/12\n",
            "60000/60000 [==============================] - 8s 127us/step - loss: 0.1670 - acc: 0.9471 - val_loss: 0.0498 - val_acc: 0.9836\n",
            "Epoch 2/12\n",
            "60000/60000 [==============================] - 6s 105us/step - loss: 0.0627 - acc: 0.9810 - val_loss: 0.0321 - val_acc: 0.9904\n",
            "Epoch 3/12\n",
            "60000/60000 [==============================] - 6s 104us/step - loss: 0.0466 - acc: 0.9860 - val_loss: 0.0299 - val_acc: 0.9908\n",
            "Epoch 4/12\n",
            "60000/60000 [==============================] - 6s 104us/step - loss: 0.0402 - acc: 0.9879 - val_loss: 0.0235 - val_acc: 0.9933\n",
            "Epoch 5/12\n",
            "60000/60000 [==============================] - 6s 104us/step - loss: 0.0361 - acc: 0.9894 - val_loss: 0.0290 - val_acc: 0.9925\n",
            "Epoch 6/12\n",
            "60000/60000 [==============================] - 6s 104us/step - loss: 0.0322 - acc: 0.9901 - val_loss: 0.0317 - val_acc: 0.9913\n",
            "Epoch 7/12\n",
            "60000/60000 [==============================] - 6s 103us/step - loss: 0.0279 - acc: 0.9917 - val_loss: 0.0186 - val_acc: 0.9936\n",
            "Epoch 8/12\n",
            "60000/60000 [==============================] - 6s 103us/step - loss: 0.0274 - acc: 0.9923 - val_loss: 0.0208 - val_acc: 0.9935\n",
            "Epoch 9/12\n",
            "60000/60000 [==============================] - 6s 104us/step - loss: 0.0254 - acc: 0.9926 - val_loss: 0.0227 - val_acc: 0.9941\n",
            "Epoch 10/12\n",
            "60000/60000 [==============================] - 6s 104us/step - loss: 0.0236 - acc: 0.9935 - val_loss: 0.0187 - val_acc: 0.9946\n",
            "Epoch 11/12\n",
            "60000/60000 [==============================] - 6s 103us/step - loss: 0.0215 - acc: 0.9936 - val_loss: 0.0191 - val_acc: 0.9947\n",
            "Epoch 12/12\n",
            "60000/60000 [==============================] - 6s 103us/step - loss: 0.0210 - acc: 0.9940 - val_loss: 0.0267 - val_acc: 0.9939\n"
          ],
          "name": "stdout"
        }
      ]
    },
    {
      "cell_type": "code",
      "metadata": {
        "colab_type": "code",
        "outputId": "1e7e3fca-69d3-4681-e098-b48f5d60c051",
        "id": "GTgTP0zHAHU2",
        "colab": {
          "base_uri": "https://localhost:8080/",
          "height": 317
        }
      },
      "source": [
        "score = model5.evaluate(x_test, y_test, verbose=0) \n",
        "print('Test score:', score[0]) \n",
        "print('Test accuracy:', score[1])\n",
        "\n",
        "fig,ax = plt.subplots(1,1)\n",
        "ax.set_xlabel('epoch') ; ax.set_ylabel('Categorical Crossentropy Loss')\n",
        "\n",
        "# list of epoch numbers\n",
        "x = list(range(1,epochs+1))\n",
        "\n",
        "vy = history.history['val_loss']\n",
        "ty = history.history['loss']\n",
        "plt_dynamic(x, vy, ty, ax, colors=['b'])"
      ],
      "execution_count": 0,
      "outputs": [
        {
          "output_type": "stream",
          "text": [
            "Test score: 0.026721200305203367\n",
            "Test accuracy: 0.9939\n"
          ],
          "name": "stdout"
        },
        {
          "output_type": "display_data",
          "data": {
            "image/png": "[encoded data removed]",
            "text/plain": [
              "<Figure size 432x288 with 1 Axes>"
            ]
          },
          "metadata": {
            "tags": []
          }
        }
      ]
    },
    {
      "cell_type": "code",
      "metadata": {
        "colab_type": "code",
        "outputId": "6a68dd5c-8760-4915-b30e-89cb4e3416c8",
        "id": "HiHOfVuyAHU5",
        "colab": {
          "base_uri": "https://localhost:8080/",
          "height": 496
        }
      },
      "source": [
        "model6 = Sequential()\n",
        "model6.add(Conv2D(32, kernel_size=(4, 4),\n",
        "                 activation='relu',\n",
        "                 input_shape=input_shape))\n",
        "model6.add(Conv2D(64, (3, 3), activation='relu'))\n",
        "model6.add(MaxPooling2D(pool_size=(2, 2)))\n",
        "model6.add(BatchNormalization())           \n",
        "model6.add(Conv2D(128, (2, 2), activation='relu'))\n",
        "model6.add(Conv2D(128, (3, 3), activation='relu'))\n",
        "model6.add(MaxPooling2D(pool_size=(2, 2)))\n",
        "model6.add(BatchNormalization())           \n",
        "model6.add(Conv2D(256, (1, 1), activation='relu'))\n",
        "model6.add(Conv2D(256, (3, 3), activation='relu'))\n",
        "model6.add(MaxPooling2D(pool_size=(2, 2)))\n",
        "model6.add(BatchNormalization())           \n",
        "model6.add(Conv2D(512, (1, 1), activation='relu'))\n",
        "model6.add(Conv2D(512, (1, 1), activation='relu'))\n",
        "model6.add(Dropout(0.5))\n",
        "           \n",
        "model6.add(Flatten())\n",
        "model6.add(Dense(128, activation='relu'))\n",
        "model6.add(Dropout(0.5))\n",
        "model6.add(Dense(num_classes, activation='softmax'))\n",
        "\n",
        "model6.compile(loss=keras.losses.categorical_crossentropy,\n",
        "              optimizer=keras.optimizers.Adadelta(),\n",
        "              metrics=['accuracy'])\n",
        "\n",
        "history = model6.fit(x_train, y_train,\n",
        "          batch_size=batch_size,\n",
        "          epochs=epochs,\n",
        "          verbose=1,\n",
        "          validation_data=(x_test, y_test))"
      ],
      "execution_count": 0,
      "outputs": [
        {
          "output_type": "stream",
          "text": [
            "W0825 13:46:38.620599 139727748306816 deprecation_wrapper.py:119] From /usr/local/lib/python3.6/dist-packages/keras/backend/tensorflow_backend.py:1834: The name tf.nn.fused_batch_norm is deprecated. Please use tf.compat.v1.nn.fused_batch_norm instead.\n",
            "\n"
          ],
          "name": "stderr"
        },
        {
          "output_type": "stream",
          "text": [
            "Train on 60000 samples, validate on 10000 samples\n",
            "Epoch 1/12\n",
            "60000/60000 [==============================] - 9s 152us/step - loss: 0.3196 - acc: 0.9014 - val_loss: 0.0711 - val_acc: 0.9827\n",
            "Epoch 2/12\n",
            "60000/60000 [==============================] - 7s 119us/step - loss: 0.0626 - acc: 0.9848 - val_loss: 0.0640 - val_acc: 0.9827\n",
            "Epoch 3/12\n",
            "60000/60000 [==============================] - 7s 118us/step - loss: 0.0419 - acc: 0.9893 - val_loss: 0.0478 - val_acc: 0.9888\n",
            "Epoch 4/12\n",
            "60000/60000 [==============================] - 7s 120us/step - loss: 0.0306 - acc: 0.9925 - val_loss: 0.0373 - val_acc: 0.9906\n",
            "Epoch 5/12\n",
            "60000/60000 [==============================] - 7s 119us/step - loss: 0.0214 - acc: 0.9944 - val_loss: 0.0335 - val_acc: 0.9918\n",
            "Epoch 6/12\n",
            "60000/60000 [==============================] - 7s 119us/step - loss: 0.0194 - acc: 0.9951 - val_loss: 0.0337 - val_acc: 0.9915\n",
            "Epoch 7/12\n",
            "60000/60000 [==============================] - 7s 119us/step - loss: 0.0117 - acc: 0.9973 - val_loss: 0.0289 - val_acc: 0.9942\n",
            "Epoch 8/12\n",
            "60000/60000 [==============================] - 7s 119us/step - loss: 0.0112 - acc: 0.9970 - val_loss: 0.0262 - val_acc: 0.9945\n",
            "Epoch 9/12\n",
            "60000/60000 [==============================] - 7s 119us/step - loss: 0.0107 - acc: 0.9970 - val_loss: 0.0345 - val_acc: 0.9933\n",
            "Epoch 10/12\n",
            "60000/60000 [==============================] - 7s 119us/step - loss: 0.0083 - acc: 0.9981 - val_loss: 0.0272 - val_acc: 0.9949\n",
            "Epoch 11/12\n",
            "60000/60000 [==============================] - 7s 120us/step - loss: 0.0059 - acc: 0.9982 - val_loss: 0.0352 - val_acc: 0.9940\n",
            "Epoch 12/12\n",
            "60000/60000 [==============================] - 7s 120us/step - loss: 0.0061 - acc: 0.9984 - val_loss: 0.0332 - val_acc: 0.9938\n"
          ],
          "name": "stdout"
        }
      ]
    },
    {
      "cell_type": "code",
      "metadata": {
        "colab_type": "code",
        "outputId": "f535d860-a03f-40f1-9657-f830ae1bf711",
        "id": "9kCBgm0pAHU8",
        "colab": {
          "base_uri": "https://localhost:8080/",
          "height": 317
        }
      },
      "source": [
        "score = model6.evaluate(x_test, y_test, verbose=0) \n",
        "print('Test score:', score[0]) \n",
        "print('Test accuracy:', score[1])\n",
        "\n",
        "fig,ax = plt.subplots(1,1)\n",
        "ax.set_xlabel('epoch') ; ax.set_ylabel('Categorical Crossentropy Loss')\n",
        "\n",
        "# list of epoch numbers\n",
        "x = list(range(1,epochs+1))\n",
        "\n",
        "vy = history.history['val_loss']\n",
        "ty = history.history['loss']\n",
        "plt_dynamic(x, vy, ty, ax, colors=['b'])"
      ],
      "execution_count": 0,
      "outputs": [
        {
          "output_type": "stream",
          "text": [
            "Test score: 0.03317512147026634\n",
            "Test accuracy: 0.9938\n"
          ],
          "name": "stdout"
        },
        {
          "output_type": "display_data",
          "data": {
            "image/png": "[encoded data removed]",
            "text/plain": [
              "<Figure size 432x288 with 1 Axes>"
            ]
          },
          "metadata": {
            "tags": []
          }
        }
      ]
    },
    {
      "cell_type": "code",
      "metadata": {
        "colab_type": "code",
        "outputId": "f1fd6ff9-84d6-49e3-c930-5a9fd8584958",
        "id": "E4F83CxgAHVA",
        "colab": {
          "base_uri": "https://localhost:8080/",
          "height": 442
        }
      },
      "source": [
        "model6 = Sequential()\n",
        "model6.add(Conv2D(32, kernel_size=(2, 2), activation='relu', input_shape=input_shape))\n",
        "model6.add(Conv2D(64, (2, 2), activation='relu'))\n",
        "model6.add(MaxPooling2D(pool_size=(2, 2), strides=2))\n",
        "model6.add(BatchNormalization())           \n",
        "model6.add(Conv2D(128, (3, 3), activation='relu', padding='same'))\n",
        "model6.add(Conv2D(128, (3, 3), activation='relu', padding='same'))\n",
        "model6.add(MaxPooling2D(pool_size=(2, 2), strides=2))\n",
        "model6.add(BatchNormalization())           \n",
        "           \n",
        "model6.add(Conv2D(256, (4, 4), activation='relu', padding='same'))\n",
        "model6.add(Conv2D(256, (4, 4), activation='relu', padding='same'))\n",
        "model6.add(MaxPooling2D(pool_size=(2, 2), strides=2))\n",
        "model6.add(BatchNormalization())           \n",
        "           \n",
        "model6.add(Conv2D(512, (5, 5), activation='relu', padding='same'))\n",
        "model6.add(Conv2D(512, (5, 5), activation='relu', padding='same'))\n",
        "model6.add(MaxPooling2D(pool_size=(2, 2), strides=2))\n",
        "model6.add(BatchNormalization())           \n",
        "\n",
        "model6.add(Conv2D(756, (6, 6), activation='relu', padding='same'))\n",
        "model6.add(Conv2D(756, (6, 6), activation='relu', padding='same'))\n",
        "model6.add(Dropout(0.5))\n",
        "           \n",
        "model6.add(Flatten())\n",
        "model6.add(Dense(128, activation='relu'))\n",
        "model6.add(Dropout(0.25))\n",
        "model6.add(Dense(num_classes, activation='softmax'))\n",
        "\n",
        "model6.compile(loss=keras.losses.categorical_crossentropy,\n",
        "              optimizer=keras.optimizers.Adadelta(),\n",
        "              metrics=['accuracy'])\n",
        "\n",
        "history = model6.fit(x_train, y_train,\n",
        "          batch_size=batch_size,\n",
        "          epochs=epochs,\n",
        "          verbose=1,\n",
        "          validation_data=(x_test, y_test))"
      ],
      "execution_count": 0,
      "outputs": [
        {
          "output_type": "stream",
          "text": [
            "Train on 60000 samples, validate on 10000 samples\n",
            "Epoch 1/12\n",
            "60000/60000 [==============================] - 78s 1ms/step - loss: 0.5892 - acc: 0.7785 - val_loss: 0.1191 - val_acc: 0.9700\n",
            "Epoch 2/12\n",
            "60000/60000 [==============================] - 74s 1ms/step - loss: 0.0634 - acc: 0.9846 - val_loss: 0.0474 - val_acc: 0.9878\n",
            "Epoch 3/12\n",
            "60000/60000 [==============================] - 74s 1ms/step - loss: 0.0374 - acc: 0.9912 - val_loss: 0.0278 - val_acc: 0.9922\n",
            "Epoch 4/12\n",
            "60000/60000 [==============================] - 74s 1ms/step - loss: 0.0263 - acc: 0.9937 - val_loss: 0.0310 - val_acc: 0.9923\n",
            "Epoch 5/12\n",
            "60000/60000 [==============================] - 74s 1ms/step - loss: 0.0204 - acc: 0.9952 - val_loss: 0.0329 - val_acc: 0.9918\n",
            "Epoch 6/12\n",
            "60000/60000 [==============================] - 75s 1ms/step - loss: 0.0140 - acc: 0.9966 - val_loss: 0.0399 - val_acc: 0.9917\n",
            "Epoch 7/12\n",
            "60000/60000 [==============================] - 75s 1ms/step - loss: 0.0134 - acc: 0.9968 - val_loss: 0.0303 - val_acc: 0.9933\n",
            "Epoch 8/12\n",
            "60000/60000 [==============================] - 74s 1ms/step - loss: 0.0113 - acc: 0.9974 - val_loss: 0.0273 - val_acc: 0.9929\n",
            "Epoch 9/12\n",
            "60000/60000 [==============================] - 74s 1ms/step - loss: 0.0079 - acc: 0.9981 - val_loss: 0.0259 - val_acc: 0.9943\n",
            "Epoch 10/12\n",
            "60000/60000 [==============================] - 74s 1ms/step - loss: 0.0073 - acc: 0.9980 - val_loss: 0.0271 - val_acc: 0.9940\n",
            "Epoch 11/12\n",
            "60000/60000 [==============================] - 74s 1ms/step - loss: 0.0076 - acc: 0.9980 - val_loss: 0.0336 - val_acc: 0.9940\n",
            "Epoch 12/12\n",
            "60000/60000 [==============================] - 74s 1ms/step - loss: 0.0062 - acc: 0.9986 - val_loss: 0.0280 - val_acc: 0.9944\n"
          ],
          "name": "stdout"
        }
      ]
    },
    {
      "cell_type": "code",
      "metadata": {
        "colab_type": "code",
        "outputId": "66954824-3e1d-4d14-92aa-b342e8c291a3",
        "id": "-VxbGCciAHVF",
        "colab": {
          "base_uri": "https://localhost:8080/",
          "height": 317
        }
      },
      "source": [
        "score = model6.evaluate(x_test, y_test, verbose=0) \n",
        "print('Test score:', score[0]) \n",
        "print('Test accuracy:', score[1])\n",
        "\n",
        "fig,ax = plt.subplots(1,1)\n",
        "ax.set_xlabel('epoch') ; ax.set_ylabel('Categorical Crossentropy Loss')\n",
        "\n",
        "# list of epoch numbers\n",
        "x = list(range(1,epochs+1))\n",
        "\n",
        "vy = history.history['val_loss']\n",
        "ty = history.history['loss']\n",
        "plt_dynamic(x, vy, ty, ax, colors=['b'])"
      ],
      "execution_count": 0,
      "outputs": [
        {
          "output_type": "stream",
          "text": [
            "Test score: 0.027970264513540406\n",
            "Test accuracy: 0.9944\n"
          ],
          "name": "stdout"
        },
        {
          "output_type": "display_data",
          "data": {
            "image/png": "[encoded data removed]",
            "text/plain": [
              "<Figure size 432x288 with 1 Axes>"
            ]
          },
          "metadata": {
            "tags": []
          }
        }
      ]
    },
    {
      "cell_type": "code",
      "metadata": {
        "colab_type": "code",
        "outputId": "6fc5d904-381e-46d8-cc1d-cbebdc06bc83",
        "id": "C1XcT36TLSw8",
        "colab": {
          "base_uri": "https://localhost:8080/",
          "height": 819
        }
      },
      "source": [
        "model7 = Sequential()\n",
        "model7.add(Conv2D(32, kernel_size=(3, 3),\n",
        "                 activation='relu',\n",
        "                 input_shape=input_shape))\n",
        "model7.add(Conv2D(64, (3, 3), activation='relu'))\n",
        "model7.add(MaxPooling2D(pool_size=(2, 2)))\n",
        "model7.add(Dropout(0.25))\n",
        "model7.add(Flatten())\n",
        "model7.add(BatchNormalization())\n",
        "\n",
        "model7.add(Dense(128, activation='relu'))\n",
        "model7.add(Dropout(0.5))\n",
        "model7.add(Dense(num_classes, activation='softmax'))\n",
        "\n",
        "model7.compile(loss=keras.losses.categorical_crossentropy,\n",
        "              optimizer=keras.optimizers.Adam(),\n",
        "              metrics=['accuracy'])\n",
        "\n",
        "history = model7.fit(x_train, y_train,\n",
        "          batch_size=batch_size,\n",
        "          epochs=epochs,\n",
        "          verbose=1,\n",
        "          validation_data=(x_test, y_test))"
      ],
      "execution_count": 6,
      "outputs": [
        {
          "output_type": "stream",
          "text": [
            "WARNING: Logging before flag parsing goes to stderr.\n",
            "W0828 17:09:49.232164 140369395689344 deprecation_wrapper.py:119] From /usr/local/lib/python3.6/dist-packages/keras/backend/tensorflow_backend.py:74: The name tf.get_default_graph is deprecated. Please use tf.compat.v1.get_default_graph instead.\n",
            "\n",
            "W0828 17:09:49.268569 140369395689344 deprecation_wrapper.py:119] From /usr/local/lib/python3.6/dist-packages/keras/backend/tensorflow_backend.py:517: The name tf.placeholder is deprecated. Please use tf.compat.v1.placeholder instead.\n",
            "\n",
            "W0828 17:09:49.275625 140369395689344 deprecation_wrapper.py:119] From /usr/local/lib/python3.6/dist-packages/keras/backend/tensorflow_backend.py:4138: The name tf.random_uniform is deprecated. Please use tf.random.uniform instead.\n",
            "\n",
            "W0828 17:09:49.287622 140369395689344 deprecation_wrapper.py:119] From /usr/local/lib/python3.6/dist-packages/keras/backend/tensorflow_backend.py:174: The name tf.get_default_session is deprecated. Please use tf.compat.v1.get_default_session instead.\n",
            "\n",
            "W0828 17:09:49.288381 140369395689344 deprecation_wrapper.py:119] From /usr/local/lib/python3.6/dist-packages/keras/backend/tensorflow_backend.py:181: The name tf.ConfigProto is deprecated. Please use tf.compat.v1.ConfigProto instead.\n",
            "\n",
            "W0828 17:09:52.362903 140369395689344 deprecation_wrapper.py:119] From /usr/local/lib/python3.6/dist-packages/keras/backend/tensorflow_backend.py:3976: The name tf.nn.max_pool is deprecated. Please use tf.nn.max_pool2d instead.\n",
            "\n",
            "W0828 17:09:52.371641 140369395689344 deprecation.py:506] From /usr/local/lib/python3.6/dist-packages/keras/backend/tensorflow_backend.py:3445: calling dropout (from tensorflow.python.ops.nn_ops) with keep_prob is deprecated and will be removed in a future version.\n",
            "Instructions for updating:\n",
            "Please use `rate` instead of `keep_prob`. Rate should be set to `rate = 1 - keep_prob`.\n",
            "W0828 17:09:52.506209 140369395689344 deprecation_wrapper.py:119] From /usr/local/lib/python3.6/dist-packages/keras/optimizers.py:790: The name tf.train.Optimizer is deprecated. Please use tf.compat.v1.train.Optimizer instead.\n",
            "\n",
            "W0828 17:09:52.685036 140369395689344 deprecation.py:323] From /usr/local/lib/python3.6/dist-packages/tensorflow/python/ops/math_grad.py:1250: add_dispatch_support.<locals>.wrapper (from tensorflow.python.ops.array_ops) is deprecated and will be removed in a future version.\n",
            "Instructions for updating:\n",
            "Use tf.where in 2.0, which has the same broadcast rule as np.where\n"
          ],
          "name": "stderr"
        },
        {
          "output_type": "stream",
          "text": [
            "Train on 60000 samples, validate on 10000 samples\n",
            "Epoch 1/12\n",
            "60000/60000 [==============================] - 9s 150us/step - loss: 0.1672 - acc: 0.9499 - val_loss: 0.0436 - val_acc: 0.9859\n",
            "Epoch 2/12\n",
            "60000/60000 [==============================] - 5s 84us/step - loss: 0.0723 - acc: 0.9782 - val_loss: 0.0412 - val_acc: 0.9865\n",
            "Epoch 3/12\n",
            "60000/60000 [==============================] - 5s 84us/step - loss: 0.0553 - acc: 0.9831 - val_loss: 0.0501 - val_acc: 0.9860\n",
            "Epoch 4/12\n",
            "60000/60000 [==============================] - 5s 84us/step - loss: 0.0480 - acc: 0.9854 - val_loss: 0.0404 - val_acc: 0.9886\n",
            "Epoch 5/12\n",
            "60000/60000 [==============================] - 5s 84us/step - loss: 0.0431 - acc: 0.9869 - val_loss: 0.0390 - val_acc: 0.9892\n",
            "Epoch 6/12\n",
            "60000/60000 [==============================] - 5s 84us/step - loss: 0.0370 - acc: 0.9883 - val_loss: 0.0359 - val_acc: 0.9899\n",
            "Epoch 7/12\n",
            "60000/60000 [==============================] - 5s 84us/step - loss: 0.0347 - acc: 0.9891 - val_loss: 0.0372 - val_acc: 0.9903\n",
            "Epoch 8/12\n",
            "60000/60000 [==============================] - 5s 84us/step - loss: 0.0320 - acc: 0.9899 - val_loss: 0.0474 - val_acc: 0.9885\n",
            "Epoch 9/12\n",
            "60000/60000 [==============================] - 5s 84us/step - loss: 0.0301 - acc: 0.9907 - val_loss: 0.0350 - val_acc: 0.9905\n",
            "Epoch 10/12\n",
            "60000/60000 [==============================] - 5s 83us/step - loss: 0.0299 - acc: 0.9910 - val_loss: 0.0420 - val_acc: 0.9893\n",
            "Epoch 11/12\n",
            "60000/60000 [==============================] - 5s 84us/step - loss: 0.0253 - acc: 0.9919 - val_loss: 0.0441 - val_acc: 0.9904\n",
            "Epoch 12/12\n",
            "60000/60000 [==============================] - 5s 84us/step - loss: 0.0250 - acc: 0.9922 - val_loss: 0.0399 - val_acc: 0.9913\n"
          ],
          "name": "stdout"
        }
      ]
    },
    {
      "cell_type": "code",
      "metadata": {
        "colab_type": "code",
        "outputId": "99cea4c6-acab-4778-ff07-f6db362640cb",
        "id": "ENmD1csuLSxN",
        "colab": {
          "base_uri": "https://localhost:8080/",
          "height": 317
        }
      },
      "source": [
        "score = model7.evaluate(x_test, y_test, verbose=0) \n",
        "\n",
        "print('Test score:', score[0]) \n",
        "print('Test accuracy:', score[1])\n",
        "\n",
        "fig,ax = plt.subplots(1,1)\n",
        "ax.set_xlabel('epoch') ; ax.set_ylabel('Categorical Crossentropy Loss')\n",
        "\n",
        "# list of epoch numbers\n",
        "x = list(range(1,epochs+1))\n",
        "\n",
        "vy = history.history['val_loss']\n",
        "ty = history.history['loss']\n",
        "plt_dynamic(x, vy, ty, ax, colors=['b'])"
      ],
      "execution_count": 7,
      "outputs": [
        {
          "output_type": "stream",
          "text": [
            "Test score: 0.03987691695487983\n",
            "Test accuracy: 0.9913\n"
          ],
          "name": "stdout"
        },
        {
          "output_type": "display_data",
          "data": {
            "image/png": "[encoded data removed]",
            "text/plain": [
              "<Figure size 432x288 with 1 Axes>"
            ]
          },
          "metadata": {
            "tags": []
          }
        }
      ]
    },
    {
      "cell_type": "code",
      "metadata": {
        "colab_type": "code",
        "outputId": "9b04a9ed-8d21-463e-f264-fce195eb1aac",
        "id": "DC7md6oyLZKO",
        "colab": {
          "base_uri": "https://localhost:8080/",
          "height": 496
        }
      },
      "source": [
        "model8 = Sequential()\n",
        "model8.add(Conv2D(32, kernel_size=(2, 2), activation='relu', input_shape=input_shape))\n",
        "model8.add(Conv2D(64, (2, 2), activation='relu'))\n",
        "model8.add(MaxPooling2D(pool_size=(2, 2), strides=2))\n",
        "model8.add(BatchNormalization())           \n",
        "model8.add(Conv2D(128, (3, 3), activation='relu', padding='same'))\n",
        "model8.add(Conv2D(128, (3, 3), activation='relu', padding='same'))\n",
        "model8.add(MaxPooling2D(pool_size=(2, 2), strides=2))\n",
        "model8.add(BatchNormalization())           \n",
        "           \n",
        "model8.add(Conv2D(256, (4, 4), activation='relu', padding='same'))\n",
        "model8.add(Conv2D(256, (4, 4), activation='relu', padding='same'))\n",
        "model8.add(MaxPooling2D(pool_size=(2, 2), strides=2))\n",
        "model8.add(BatchNormalization())           \n",
        "           \n",
        "model8.add(Conv2D(512, (5, 5), activation='relu', padding='same'))\n",
        "model8.add(Conv2D(512, (5, 5), activation='relu', padding='same'))\n",
        "model8.add(MaxPooling2D(pool_size=(2, 2), strides=2))\n",
        "model8.add(BatchNormalization())           \n",
        "\n",
        "model8.add(Conv2D(756, (6, 6), activation='relu', padding='same'))\n",
        "model8.add(Conv2D(756, (6, 6), activation='relu', padding='same'))\n",
        "model8.add(Dropout(0.5))\n",
        "           \n",
        "model8.add(Flatten())\n",
        "model8.add(Dense(128, activation='relu'))\n",
        "model8.add(Dropout(0.25))\n",
        "model8.add(Dense(num_classes, activation='softmax'))\n",
        "\n",
        "model8.compile(loss=keras.losses.categorical_crossentropy,\n",
        "              optimizer=keras.optimizers.Adam(),\n",
        "              metrics=['accuracy'])\n",
        "\n",
        "history = model8.fit(x_train, y_train,\n",
        "          batch_size=batch_size,\n",
        "          epochs=epochs,\n",
        "          verbose=1,\n",
        "          validation_data=(x_test, y_test))"
      ],
      "execution_count": 8,
      "outputs": [
        {
          "output_type": "stream",
          "text": [
            "W0828 17:10:58.274101 140369395689344 deprecation_wrapper.py:119] From /usr/local/lib/python3.6/dist-packages/keras/backend/tensorflow_backend.py:1834: The name tf.nn.fused_batch_norm is deprecated. Please use tf.compat.v1.nn.fused_batch_norm instead.\n",
            "\n"
          ],
          "name": "stderr"
        },
        {
          "output_type": "stream",
          "text": [
            "Train on 60000 samples, validate on 10000 samples\n",
            "Epoch 1/12\n",
            "60000/60000 [==============================] - 78s 1ms/step - loss: 0.4632 - acc: 0.8314 - val_loss: 0.0767 - val_acc: 0.9792\n",
            "Epoch 2/12\n",
            "60000/60000 [==============================] - 69s 1ms/step - loss: 0.0679 - acc: 0.9840 - val_loss: 0.0588 - val_acc: 0.9855\n",
            "Epoch 3/12\n",
            "60000/60000 [==============================] - 69s 1ms/step - loss: 0.0498 - acc: 0.9879 - val_loss: 0.0355 - val_acc: 0.9907\n",
            "Epoch 4/12\n",
            "60000/60000 [==============================] - 69s 1ms/step - loss: 0.0371 - acc: 0.9911 - val_loss: 0.0616 - val_acc: 0.9855\n",
            "Epoch 5/12\n",
            "60000/60000 [==============================] - 69s 1ms/step - loss: 0.0294 - acc: 0.9929 - val_loss: 0.0339 - val_acc: 0.9918\n",
            "Epoch 6/12\n",
            "60000/60000 [==============================] - 69s 1ms/step - loss: 0.0273 - acc: 0.9936 - val_loss: 0.0428 - val_acc: 0.9913\n",
            "Epoch 7/12\n",
            "60000/60000 [==============================] - 69s 1ms/step - loss: 0.0209 - acc: 0.9956 - val_loss: 0.0351 - val_acc: 0.9927\n",
            "Epoch 8/12\n",
            "60000/60000 [==============================] - 69s 1ms/step - loss: 0.0264 - acc: 0.9945 - val_loss: 0.0372 - val_acc: 0.9928\n",
            "Epoch 9/12\n",
            "60000/60000 [==============================] - 69s 1ms/step - loss: 0.0196 - acc: 0.9955 - val_loss: 0.0385 - val_acc: 0.9919\n",
            "Epoch 10/12\n",
            "60000/60000 [==============================] - 69s 1ms/step - loss: 0.0193 - acc: 0.9957 - val_loss: 0.0384 - val_acc: 0.9919\n",
            "Epoch 11/12\n",
            "60000/60000 [==============================] - 69s 1ms/step - loss: 0.0101 - acc: 0.9975 - val_loss: 0.0372 - val_acc: 0.9925\n",
            "Epoch 12/12\n",
            "60000/60000 [==============================] - 69s 1ms/step - loss: 0.0138 - acc: 0.9972 - val_loss: 0.0327 - val_acc: 0.9931\n"
          ],
          "name": "stdout"
        }
      ]
    },
    {
      "cell_type": "code",
      "metadata": {
        "colab_type": "code",
        "outputId": "c92e5660-2ac2-4f2e-8638-71695ed13013",
        "id": "ngwSw0_vLZKW",
        "colab": {
          "base_uri": "https://localhost:8080/",
          "height": 317
        }
      },
      "source": [
        "score = model8.evaluate(x_test, y_test, verbose=0) \n",
        "print('Test score:', score[0]) \n",
        "print('Test accuracy:', score[1])\n",
        "\n",
        "fig,ax = plt.subplots(1,1)\n",
        "ax.set_xlabel('epoch') ; ax.set_ylabel('Categorical Crossentropy Loss')\n",
        "\n",
        "# list of epoch numbers\n",
        "x = list(range(1,epochs+1))\n",
        "\n",
        "vy = history.history['val_loss']\n",
        "ty = history.history['loss']\n",
        "plt_dynamic(x, vy, ty, ax, colors=['b'])"
      ],
      "execution_count": 9,
      "outputs": [
        {
          "output_type": "stream",
          "text": [
            "Test score: 0.0327126224215478\n",
            "Test accuracy: 0.9931\n"
          ],
          "name": "stdout"
        },
        {
          "output_type": "display_data",
          "data": {
            "image/png": "[encoded data removed]",
            "text/plain": [
              "<Figure size 432x288 with 1 Axes>"
            ]
          },
          "metadata": {
            "tags": []
          }
        }
      ]
    },
    {
      "cell_type": "markdown",
      "metadata": {
        "id": "o0G21PKkHWYa",
        "colab_type": "text"
      },
      "source": [
        "**Pretty Table**"
      ]
    },
    {
      "cell_type": "code",
      "metadata": {
        "id": "B74x8gJkUFrx",
        "colab_type": "code",
        "outputId": "ac68a4e0-6e58-48fd-ce57-fba553267d59",
        "colab": {
          "base_uri": "https://localhost:8080/",
          "height": 204
        }
      },
      "source": [
        "from prettytable import PrettyTable\n",
        "    \n",
        "x = PrettyTable()\n",
        "\n",
        "x.field_names = [\" Model Name\", \"Number of Hidden Layers\", \"Loss\", \"Accuracy\", \"Batch Normalization Used\", \"Optimizer\"]\n",
        "\n",
        "x.add_row([\"Model\", 2, 0.026, 0.997, \"NO\", \"Adadelta\"])\n",
        "x.add_row([\"Model1\", 3, 0.014, 0.995, \"NO\", \"Adadelta\"])\n",
        "x.add_row([\"Model2\", 8, 0.031, 0.993, \"NO\", \"Adadelta\"])\n",
        "x.add_row([\"Model3\", 10, 2.30, 0.113, \"NO\", \"Adadelta\"])\n",
        "x.add_row([\"Model4\", 3, 0.026, 0.993, \"YES\", \"Adadelta\"])\n",
        "x.add_row([\"Model5\", 8, 0.033, 0.993, \"YES\", \"Adadelta\"])\n",
        "x.add_row([\"Model6\", 10, 0.027, 0.994, \"YES\", \"Adadelta\"])\n",
        "x.add_row([\"Model7\", 3, 0.039, 0.991, \"YES\", \"Adam\"])\n",
        "x.add_row([\"Model8\", 10, 0.032, 0.993, \"YES\", \"Adam\"])\n",
        "\n",
        "\n",
        "\n",
        "print(x)"
      ],
      "execution_count": 0,
      "outputs": [
        {
          "output_type": "stream",
          "text": [
            "+-------------+-------------------------+-------+----------+--------------------------+\n",
            "|  Model Name | Number of Hidden Layers |  Loss | Accuracy | Batch Normalization Used |\n",
            "+-------------+-------------------------+-------+----------+--------------------------+\n",
            "|    Model    |            2            | 0.026 |  0.997   |            NO            |\n",
            "|    Model1   |            3            | 0.014 |  0.995   |            NO            |\n",
            "|    Model2   |            8            | 0.031 |  0.993   |            NO            |\n",
            "|    Model3   |            10           |  2.3  |  0.113   |            NO            |\n",
            "|    Model4   |            3            | 0.026 |  0.993   |           YES            |\n",
            "|    Model5   |            8            | 0.033 |  0.993   |           YES            |\n",
            "|    Model6   |            10           | 0.027 |  0.994   |           YES            |\n",
            "+-------------+-------------------------+-------+----------+--------------------------+\n"
          ],
          "name": "stdout"
        }
      ]
    },
    {
      "cell_type": "markdown",
      "metadata": {
        "id": "c6qPKNJbmTvP",
        "colab_type": "text"
      },
      "source": [
        "**Conclusion**\n",
        "\n",
        "1) We generated 7 CNN models with various number of hidden layers with differnt drop out rates, differnt stride length and with and without padding.\n",
        "2) Our Model1 with 3 hidden layers gave us the best performance in reducing the log loss.\n",
        "3) Model 3 performed the worst among all our models. This is the only model in which we used padding.\n",
        "4) Graphs and pretty tables we plotted for better inference of the results.\n",
        "5) We used batch normalization to observe if it improves results. We observed that models without batch normalization had a lower log loss and performed better."
      ]
    },
    {
      "cell_type": "code",
      "metadata": {
        "id": "K5cOD519NIS9",
        "colab_type": "code",
        "colab": {}
      },
      "source": [
        ""
      ],
      "execution_count": 0,
      "outputs": []
    }
  ]
}